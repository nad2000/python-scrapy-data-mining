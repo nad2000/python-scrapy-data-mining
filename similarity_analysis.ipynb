{
 "cells": [
  {
   "cell_type": "code",
   "execution_count": 3,
   "metadata": {
    "collapsed": false
   },
   "outputs": [],
   "source": [
    "##%matplotlib inline\n",
    "import csv\n",
    "import nltk\n",
    "#from nltk.stem.porter import PorterStemmer\n",
    "from stem import IndonesianStemmer\n",
    "import string\n",
    "#import os\n",
    "import re\n",
    "from collections import defaultdict\n",
    "import multiprocessing\n",
    "import dill\n",
    "import utils"
   ]
  },
  {
   "cell_type": "code",
   "execution_count": 4,
   "metadata": {
    "collapsed": false
   },
   "outputs": [],
   "source": [
    "#stopwords = nltk.corpus.stopwords.words('indonesian')"
   ]
  },
  {
   "cell_type": "code",
   "execution_count": 2,
   "metadata": {
    "collapsed": false
   },
   "outputs": [],
   "source": [
    "stemmer = IndonesianStemmer()\n",
    "tokenizer = nltk.tokenize.RegexpTokenizer(\"[\\w']+\", flags=re.UNICODE)\n",
    "\n",
    "def stem_tokens(tokens, stemmer):\n",
    "    stemmed = []\n",
    "    for item in tokens:\n",
    "        stemmed.append(stemm er.stem(item))\n",
    "    return stemmed\n",
    "\n",
    "def tokenize(text):\n",
    "    global stemmer, tokenizer\n",
    "    #tokens = nltk.word_tokenize(text, language=\"indonesian\")\n",
    "    tokens = tokenizer.tokenize(text)\n",
    "    stems = stem_tokens(tokens, stemmer)\n",
    "    return stems"
   ]
  },
  {
   "cell_type": "code",
   "execution_count": 4,
   "metadata": {
    "collapsed": false
   },
   "outputs": [
    {
     "name": "stdout",
     "output_type": "stream",
     "text": [
      "CPU times: user 13 s, sys: 320 ms, total: 13.3 s\n",
      "Wall time: 13.5 s\n"
     ]
    }
   ],
   "source": [
    "%%time\n",
    "token_dict = defaultdict(lambda: None)\n",
    "product_category = defaultdict(lambda: None)\n",
    "\n",
    "with open('/data/python-scrapy-data-mining/corpus.csv') as raw_file:\n",
    "    for (prod_id, title, url) in csv.reader(raw_file):\n",
    "\n",
    "        url = url.split('/')\n",
    "        if url[3] != 'p':\n",
    "            continue\n",
    "        cat = '/'.join(url[4:-1])\n",
    "        product_category[int(prod_id)] = cat\n",
    "        token_dict[int(prod_id)] = tokenize(\n",
    "            title.lower().translate(None, string.punctuation))"
   ]
  },
  {
   "cell_type": "code",
   "execution_count": 5,
   "metadata": {
    "collapsed": false
   },
   "outputs": [
    {
     "name": "stdout",
     "output_type": "stream",
     "text": [
      "CPU times: user 712 ms, sys: 124 ms, total: 836 ms\n",
      "Wall time: 852 ms\n"
     ]
    }
   ],
   "source": [
    "%time collection = nltk.text.TextCollection(token_dict.values())"
   ]
  },
  {
   "cell_type": "code",
   "execution_count": 7,
   "metadata": {
    "collapsed": false
   },
   "outputs": [
    {
     "name": "stdout",
     "output_type": "stream",
     "text": [
      "Toal products: 228562\n",
      "Unique terms found:  101633\n"
     ]
    }
   ],
   "source": [
    "#get a list of unique terms\n",
    "print \"Toal products:\", len(token_dict)\n",
    "unique_terms = list(set(collection))\n",
    "print \"Unique terms found: \", len(unique_terms)"
   ]
  },
  {
   "cell_type": "code",
   "execution_count": null,
   "metadata": {
    "collapsed": true
   },
   "outputs": [],
   "source": [
    "# Function to create a TF*IDF vector for one document.  For each of\n",
    "# our unique words, we have a feature which is the td*idf for that word\n",
    "# in the current document\n",
    "def TFIDF(document):\n",
    "    global collection\n",
    "    document_tfidf = {}\n",
    "    for word in unique_terms:\n",
    "        if word not in document:\n",
    "            continue\n",
    "        ifidf = collection.tf_idf(word, document)\n",
    "        if ifidf > 0.01:\n",
    "            document_tfidf[word] = ifidf\n",
    "    return document_tfidf"
   ]
  },
  {
   "cell_type": "code",
   "execution_count": 12,
   "metadata": {
    "collapsed": false
   },
   "outputs": [
    {
     "name": "stdout",
     "output_type": "stream",
     "text": [
      "Traceback (most recent call last):\n",
      "  File \"/usr/local/lib/python2.7/dist-packages/IPython/core/ultratb.py\", line 970, in get_records\n",
      "    return _fixed_getinnerframes(etb, number_of_lines_of_context, tb_offset)\n",
      "  File \"/usr/local/lib/python2.7/dist-packages/IPython/core/ultratb.py\", line 233, in wrapped\n",
      "    return f(*args, **kwargs)\n",
      "  File \"/usr/local/lib/python2.7/dist-packages/IPython/core/ultratb.py\", line 267, in _fixed_getinnerframes\n",
      "    records = fix_frame_records_filenames(inspect.getinnerframes(etb, context))\n",
      "  File \"/usr/lib/python2.7/inspect.py\", line 1044, in getinnerframes\n",
      "    framelist.append((tb.tb_frame,) + getframeinfo(tb, context))\n",
      "  File \"/usr/lib/python2.7/inspect.py\", line 1004, in getframeinfo\n",
      "    filename = getsourcefile(frame) or getfile(frame)\n",
      "  File \"/usr/lib/python2.7/inspect.py\", line 454, in getsourcefile\n",
      "    if hasattr(getmodule(object, filename), '__loader__'):\n",
      "  File \"/usr/lib/python2.7/inspect.py\", line 491, in getmodule\n",
      "    if ismodule(module) and hasattr(module, '__file__'):\n",
      "KeyboardInterrupt\n"
     ]
    },
    {
     "name": "stderr",
     "output_type": "stream",
     "text": [
      "ERROR: Internal Python error in the inspect module.\n",
      "Below is the traceback from this internal error.\n",
      "\n",
      "\n",
      "Unfortunately, your original traceback can not be constructed.\n",
      "\n"
     ]
    },
    {
     "ename": "TypeError",
     "evalue": "'NoneType' object is not iterable",
     "output_type": "error",
     "traceback": [
      "\u001b[1;31m---------------------------------------------------------------------------\u001b[0m",
      "\u001b[1;31mTypeError\u001b[0m                                 Traceback (most recent call last)",
      "\u001b[1;32m/usr/local/lib/python2.7/dist-packages/IPython/core/interactiveshell.pyc\u001b[0m in \u001b[0;36mrun_code\u001b[1;34m(self, code_obj, result)\u001b[0m\n\u001b[0;32m   3081\u001b[0m             \u001b[1;32mif\u001b[0m \u001b[0mresult\u001b[0m \u001b[1;32mis\u001b[0m \u001b[1;32mnot\u001b[0m \u001b[0mNone\u001b[0m\u001b[1;33m:\u001b[0m\u001b[1;33m\u001b[0m\u001b[0m\n\u001b[0;32m   3082\u001b[0m                 \u001b[0mresult\u001b[0m\u001b[1;33m.\u001b[0m\u001b[0merror_in_exec\u001b[0m \u001b[1;33m=\u001b[0m \u001b[0msys\u001b[0m\u001b[1;33m.\u001b[0m\u001b[0mexc_info\u001b[0m\u001b[1;33m(\u001b[0m\u001b[1;33m)\u001b[0m\u001b[1;33m[\u001b[0m\u001b[1;36m1\u001b[0m\u001b[1;33m]\u001b[0m\u001b[1;33m\u001b[0m\u001b[0m\n\u001b[1;32m-> 3083\u001b[1;33m             \u001b[0mself\u001b[0m\u001b[1;33m.\u001b[0m\u001b[0mshowtraceback\u001b[0m\u001b[1;33m(\u001b[0m\u001b[1;33m)\u001b[0m\u001b[1;33m\u001b[0m\u001b[0m\n\u001b[0m\u001b[0;32m   3084\u001b[0m         \u001b[1;32melse\u001b[0m\u001b[1;33m:\u001b[0m\u001b[1;33m\u001b[0m\u001b[0m\n\u001b[0;32m   3085\u001b[0m             \u001b[0moutflag\u001b[0m \u001b[1;33m=\u001b[0m \u001b[1;36m0\u001b[0m\u001b[1;33m\u001b[0m\u001b[0m\n",
      "\u001b[1;32m/usr/local/lib/python2.7/dist-packages/IPython/core/interactiveshell.pyc\u001b[0m in \u001b[0;36mshowtraceback\u001b[1;34m(self, exc_tuple, filename, tb_offset, exception_only)\u001b[0m\n\u001b[0;32m   1878\u001b[0m                     \u001b[1;32mexcept\u001b[0m \u001b[0mException\u001b[0m\u001b[1;33m:\u001b[0m\u001b[1;33m\u001b[0m\u001b[0m\n\u001b[0;32m   1879\u001b[0m                         stb = self.InteractiveTB.structured_traceback(etype,\n\u001b[1;32m-> 1880\u001b[1;33m                                             value, tb, tb_offset=tb_offset)\n\u001b[0m\u001b[0;32m   1881\u001b[0m \u001b[1;33m\u001b[0m\u001b[0m\n\u001b[0;32m   1882\u001b[0m                     \u001b[0mself\u001b[0m\u001b[1;33m.\u001b[0m\u001b[0m_showtraceback\u001b[0m\u001b[1;33m(\u001b[0m\u001b[0metype\u001b[0m\u001b[1;33m,\u001b[0m \u001b[0mvalue\u001b[0m\u001b[1;33m,\u001b[0m \u001b[0mstb\u001b[0m\u001b[1;33m)\u001b[0m\u001b[1;33m\u001b[0m\u001b[0m\n",
      "\u001b[1;32m/usr/local/lib/python2.7/dist-packages/IPython/core/ultratb.pyc\u001b[0m in \u001b[0;36mstructured_traceback\u001b[1;34m(self, etype, value, tb, tb_offset, number_of_lines_of_context)\u001b[0m\n\u001b[0;32m   1240\u001b[0m         \u001b[0mself\u001b[0m\u001b[1;33m.\u001b[0m\u001b[0mtb\u001b[0m \u001b[1;33m=\u001b[0m \u001b[0mtb\u001b[0m\u001b[1;33m\u001b[0m\u001b[0m\n\u001b[0;32m   1241\u001b[0m         return FormattedTB.structured_traceback(\n\u001b[1;32m-> 1242\u001b[1;33m             self, etype, value, tb, tb_offset, number_of_lines_of_context)\n\u001b[0m\u001b[0;32m   1243\u001b[0m \u001b[1;33m\u001b[0m\u001b[0m\n\u001b[0;32m   1244\u001b[0m \u001b[1;33m\u001b[0m\u001b[0m\n",
      "\u001b[1;32m/usr/local/lib/python2.7/dist-packages/IPython/core/ultratb.pyc\u001b[0m in \u001b[0;36mstructured_traceback\u001b[1;34m(self, etype, value, tb, tb_offset, number_of_lines_of_context)\u001b[0m\n\u001b[0;32m   1148\u001b[0m             \u001b[1;31m# Verbose modes need a full traceback\u001b[0m\u001b[1;33m\u001b[0m\u001b[1;33m\u001b[0m\u001b[0m\n\u001b[0;32m   1149\u001b[0m             return VerboseTB.structured_traceback(\n\u001b[1;32m-> 1150\u001b[1;33m                 \u001b[0mself\u001b[0m\u001b[1;33m,\u001b[0m \u001b[0metype\u001b[0m\u001b[1;33m,\u001b[0m \u001b[0mvalue\u001b[0m\u001b[1;33m,\u001b[0m \u001b[0mtb\u001b[0m\u001b[1;33m,\u001b[0m \u001b[0mtb_offset\u001b[0m\u001b[1;33m,\u001b[0m \u001b[0mnumber_of_lines_of_context\u001b[0m\u001b[1;33m\u001b[0m\u001b[0m\n\u001b[0m\u001b[0;32m   1151\u001b[0m             )\n\u001b[0;32m   1152\u001b[0m         \u001b[1;32melse\u001b[0m\u001b[1;33m:\u001b[0m\u001b[1;33m\u001b[0m\u001b[0m\n",
      "\u001b[1;32m/usr/local/lib/python2.7/dist-packages/IPython/core/ultratb.pyc\u001b[0m in \u001b[0;36mstructured_traceback\u001b[1;34m(self, etype, evalue, etb, tb_offset, number_of_lines_of_context)\u001b[0m\n\u001b[0;32m   1000\u001b[0m \u001b[1;33m\u001b[0m\u001b[0m\n\u001b[0;32m   1001\u001b[0m         formatted_exception = self.format_exception_as_a_whole(etype, evalue, etb, number_of_lines_of_context,\n\u001b[1;32m-> 1002\u001b[1;33m                                                                tb_offset)\n\u001b[0m\u001b[0;32m   1003\u001b[0m \u001b[1;33m\u001b[0m\u001b[0m\n\u001b[0;32m   1004\u001b[0m         \u001b[0mcolors\u001b[0m \u001b[1;33m=\u001b[0m \u001b[0mself\u001b[0m\u001b[1;33m.\u001b[0m\u001b[0mColors\u001b[0m  \u001b[1;31m# just a shorthand + quicker name lookup\u001b[0m\u001b[1;33m\u001b[0m\u001b[0m\n",
      "\u001b[1;32m/usr/local/lib/python2.7/dist-packages/IPython/core/ultratb.pyc\u001b[0m in \u001b[0;36mformat_exception_as_a_whole\u001b[1;34m(self, etype, evalue, etb, number_of_lines_of_context, tb_offset)\u001b[0m\n\u001b[0;32m    949\u001b[0m         \u001b[0mrecords\u001b[0m \u001b[1;33m=\u001b[0m \u001b[0mself\u001b[0m\u001b[1;33m.\u001b[0m\u001b[0mget_records\u001b[0m\u001b[1;33m(\u001b[0m\u001b[0metb\u001b[0m\u001b[1;33m,\u001b[0m \u001b[0mnumber_of_lines_of_context\u001b[0m\u001b[1;33m,\u001b[0m \u001b[0mtb_offset\u001b[0m\u001b[1;33m)\u001b[0m\u001b[1;33m\u001b[0m\u001b[0m\n\u001b[0;32m    950\u001b[0m \u001b[1;33m\u001b[0m\u001b[0m\n\u001b[1;32m--> 951\u001b[1;33m         \u001b[0mframes\u001b[0m \u001b[1;33m=\u001b[0m \u001b[0mself\u001b[0m\u001b[1;33m.\u001b[0m\u001b[0mformat_records\u001b[0m\u001b[1;33m(\u001b[0m\u001b[0mrecords\u001b[0m\u001b[1;33m)\u001b[0m\u001b[1;33m\u001b[0m\u001b[0m\n\u001b[0m\u001b[0;32m    952\u001b[0m         \u001b[1;32mif\u001b[0m \u001b[0mrecords\u001b[0m \u001b[1;32mis\u001b[0m \u001b[0mNone\u001b[0m\u001b[1;33m:\u001b[0m\u001b[1;33m\u001b[0m\u001b[0m\n\u001b[0;32m    953\u001b[0m             \u001b[1;32mreturn\u001b[0m \u001b[1;34m\"\"\u001b[0m\u001b[1;33m\u001b[0m\u001b[0m\n",
      "\u001b[1;32m/usr/local/lib/python2.7/dist-packages/IPython/core/ultratb.pyc\u001b[0m in \u001b[0;36mformat_records\u001b[1;34m(self, records)\u001b[0m\n\u001b[0;32m    722\u001b[0m \u001b[1;33m\u001b[0m\u001b[0m\n\u001b[0;32m    723\u001b[0m         \u001b[0mabspath\u001b[0m \u001b[1;33m=\u001b[0m \u001b[0mos\u001b[0m\u001b[1;33m.\u001b[0m\u001b[0mpath\u001b[0m\u001b[1;33m.\u001b[0m\u001b[0mabspath\u001b[0m\u001b[1;33m\u001b[0m\u001b[0m\n\u001b[1;32m--> 724\u001b[1;33m         \u001b[1;32mfor\u001b[0m \u001b[0mframe\u001b[0m\u001b[1;33m,\u001b[0m \u001b[0mfile\u001b[0m\u001b[1;33m,\u001b[0m \u001b[0mlnum\u001b[0m\u001b[1;33m,\u001b[0m \u001b[0mfunc\u001b[0m\u001b[1;33m,\u001b[0m \u001b[0mlines\u001b[0m\u001b[1;33m,\u001b[0m \u001b[0mindex\u001b[0m \u001b[1;32min\u001b[0m \u001b[0mrecords\u001b[0m\u001b[1;33m:\u001b[0m\u001b[1;33m\u001b[0m\u001b[0m\n\u001b[0m\u001b[0;32m    725\u001b[0m             \u001b[1;31m#print '*** record:',file,lnum,func,lines,index  # dbg\u001b[0m\u001b[1;33m\u001b[0m\u001b[1;33m\u001b[0m\u001b[0m\n\u001b[0;32m    726\u001b[0m             \u001b[1;32mif\u001b[0m \u001b[1;32mnot\u001b[0m \u001b[0mfile\u001b[0m\u001b[1;33m:\u001b[0m\u001b[1;33m\u001b[0m\u001b[0m\n",
      "\u001b[1;31mTypeError\u001b[0m: 'NoneType' object is not iterable"
     ]
    }
   ],
   "source": [
    "TFIDF(token_dict[1])"
   ]
  },
  {
   "cell_type": "code",
   "execution_count": 22,
   "metadata": {
    "collapsed": false
   },
   "outputs": [
    {
     "name": "stdout",
     "output_type": "stream",
     "text": [
      "CPU times: user 2.89 s, sys: 1.99 s, total: 4.88 s\n",
      "Wall time: 25min 49s\n"
     ]
    }
   ],
   "source": [
    "%%time\n",
    "\n",
    "def term_idf(terms):\n",
    "    global collection\n",
    "    return [(t, collection.idf(t)) for t in terms]\n",
    "\n",
    "pool = multiprocessing.Pool(processes=8)\n",
    "terms = pool.map(term_idf, utils.chunks(unique_terms, 8))"
   ]
  },
  {
   "cell_type": "code",
   "execution_count": 30,
   "metadata": {
    "collapsed": false
   },
   "outputs": [
    {
     "name": "stdout",
     "output_type": "stream",
     "text": [
      "Total unique terms: 101633\n"
     ]
    }
   ],
   "source": [
    "import operator\n",
    "#%time terms = reduce(operator.add, terms, [])\n",
    "terms = sorted(terms, key=lambda t: -t[1])\n",
    "print \"Total unique terms:\", len(terms)"
   ]
  },
  {
   "cell_type": "code",
   "execution_count": 34,
   "metadata": {
    "collapsed": false
   },
   "outputs": [
    {
     "data": {
      "text/plain": [
       "[('fawn', 12.339562787303892),\n",
       " ('tsukino', 12.339562787303892),\n",
       " ('5quot', 12.339562787303892),\n",
       " ('400410', 12.339562787303892),\n",
       " ('daiich', 12.339562787303892),\n",
       " ('asustrixgtx750tioc2gd5', 12.339562787303892),\n",
       " ('lodyne', 12.339562787303892),\n",
       " ('inlite', 12.339562787303892),\n",
       " ('n7100note', 12.339562787303892),\n",
       " ('ds1015', 12.339562787303892),\n",
       " '...',\n",
       " ('sepatu', 3.674984608974596),\n",
       " ('usb', 3.6517832953121205),\n",
       " ('samsung', 3.642551169311818),\n",
       " ('black', 3.6282841721734576),\n",
       " ('1', 3.6197553358259373),\n",
       " ('case', 3.552342458674594),\n",
       " ('jam', 3.5344875434332073),\n",
       " ('for', 3.494073550550618),\n",
       " ('tas', 3.3190520876119853),\n",
       " ('original', 3.1732788015246287)]"
      ]
     },
     "execution_count": 34,
     "metadata": {},
     "output_type": "execute_result"
    }
   ],
   "source": [
    "# Inverted Document Frequencies (of the unique terms):\n",
    "terms[:10] + [\"...\"] + terms[-10:]"
   ]
  },
  {
   "cell_type": "code",
   "execution_count": 44,
   "metadata": {
    "collapsed": false
   },
   "outputs": [
    {
     "name": "stdout",
     "output_type": "stream",
     "text": [
      "CPU times: user 1.99 s, sys: 328 ms, total: 2.32 s\n",
      "Wall time: 4.93 s\n"
     ]
    }
   ],
   "source": [
    "%time backup_object(terms, \"terms.pkl\")"
   ]
  },
  {
   "cell_type": "code",
   "execution_count": 73,
   "metadata": {
    "collapsed": false
   },
   "outputs": [
    {
     "name": "stdout",
     "output_type": "stream",
     "text": [
      "CPU times: user 2min 9s, sys: 844 ms, total: 2min 10s\n",
      "Wall time: 2min 9s\n"
     ]
    },
    {
     "data": {
      "text/plain": [
       "1000"
      ]
     },
     "execution_count": 73,
     "metadata": {},
     "output_type": "execute_result"
    }
   ],
   "source": [
    "%time len([TFIDF(token_dict[k]) for k in token_dict.keys()[1000:2000]])"
   ]
  },
  {
   "cell_type": "code",
   "execution_count": 120,
   "metadata": {
    "collapsed": false
   },
   "outputs": [
    {
     "name": "stdout",
     "output_type": "stream",
     "text": [
      "CPU times: user 8h 18min 35s, sys: 5min 16s, total: 8h 23min 52s\n",
      "Wall time: 8h 18min 47s\n"
     ]
    }
   ],
   "source": [
    "# Vectorize products (into a list of tuples (product_id, vector representation)):\n",
    "%time vectors = [(prod_id,TFIDF(token_dict[prod_id])) for prod_id in token_dict.keys()]"
   ]
  },
  {
   "cell_type": "code",
   "execution_count": 191,
   "metadata": {
    "collapsed": false
   },
   "outputs": [
    {
     "data": {
      "text/plain": [
       "((2,\n",
       "  defaultdict(<function __main__.<lambda>>,\n",
       "              {'4171': 0.49787583755381826,\n",
       "               'and': 0.22686251165346813,\n",
       "               'arrival': 0.45189397793206915,\n",
       "               'box': 0.2233729500125791,\n",
       "               'case': 0.1614701117579361,\n",
       "               'erika': 0.4663691475283662,\n",
       "               'feminino': 0.5109522953925355,\n",
       "               'frame': 0.25059170744305903,\n",
       "               'gafas': 0.5293825275792703,\n",
       "               'glasses': 0.7510932130361975,\n",
       "               'kacamata': 0.2328236070730618,\n",
       "               'keren': 0.2166144446332587,\n",
       "               'logo': 0.2868765575942361,\n",
       "               'masculino': 0.5293825275792703,\n",
       "               'men': 0.2954055059059315,\n",
       "               'new': 0.19716081677671735,\n",
       "               'sun': 0.351111012293756,\n",
       "               'sunglasses': 0.3563524144078921,\n",
       "               'velvet': 0.3563524144078921,\n",
       "               'with': 0.20376618155491144,\n",
       "               'women': 0.30641549219570535})),\n",
       " (23,\n",
       "  defaultdict(<function __main__.<lambda>>,\n",
       "              {'2pack': 0.574977260578962,\n",
       "               '3': 0.23528370713439695,\n",
       "               'and': 0.2935867797868411,\n",
       "               'battery': 0.2627486242516569,\n",
       "               'charger': 0.2511894364995445,\n",
       "               'dual': 0.3034547993093727,\n",
       "               'for': 0.20553373826768342,\n",
       "               'go': 0.36519625281298534,\n",
       "               'gopro': 0.6975750476867911,\n",
       "               'hero3': 1.0684077940332248,\n",
       "               'indonesia': 0.37125201571018784,\n",
       "               'new': 0.2551492922992813,\n",
       "               'power': 0.24708318284822509,\n",
       "               'pro': 0.3096325837250297,\n",
       "               'usb': 0.21481078207718357})))"
      ]
     },
     "execution_count": 191,
     "metadata": {},
     "output_type": "execute_result"
    }
   ],
   "source": [
    "vectors[1], vectors[22]"
   ]
  },
  {
   "cell_type": "code",
   "execution_count": null,
   "metadata": {
    "collapsed": true
   },
   "outputs": [],
   "source": []
  },
  {
   "cell_type": "code",
   "execution_count": 84,
   "metadata": {
    "collapsed": false
   },
   "outputs": [],
   "source": []
  },
  {
   "cell_type": "code",
   "execution_count": 123,
   "metadata": {
    "collapsed": false
   },
   "outputs": [],
   "source": [
    "dill.dump(vectors, open(\"vectors.pkl\", \"wb\"))\n",
    "#dill.dump(token_dict, open(\"token_dict.pkl\", \"wb\"))\n",
    "#dill.dump(terms, open(\"terms.pkl\", \"wb\"))\n",
    "#dill.dump(collection, open(\"collection.pkl\", \"wb\"))"
   ]
  },
  {
   "cell_type": "code",
   "execution_count": 92,
   "metadata": {
    "collapsed": true
   },
   "outputs": [],
   "source": [
    "import math"
   ]
  },
  {
   "cell_type": "code",
   "execution_count": 192,
   "metadata": {
    "collapsed": false
   },
   "outputs": [],
   "source": [
    "def norm(vect):\n",
    "    if type(vect) == tuple:\n",
    "        vect = vect[1]\n",
    "    return math.sqrt(sum((v * v for v in vect.values())))\n",
    "def distance(v1, v2):\n",
    "    if type(v1) == tuple:\n",
    "        v1 = v1[1]\n",
    "        v2 = v2[1] \n",
    "    dist = sum((v1[w] * v2[w] for w in set(v1).intersection(v2)), 0.0)\n",
    "    return dist / (norm(v1) * norm(v2))"
   ]
  },
  {
   "cell_type": "code",
   "execution_count": 193,
   "metadata": {
    "collapsed": false
   },
   "outputs": [
    {
     "name": "stdout",
     "output_type": "stream",
     "text": [
      "CPU times: user 1.06 s, sys: 4.24 s, total: 5.3 s\n",
      "Wall time: 50 s\n"
     ]
    }
   ],
   "source": [
    "%%time \n",
    "for i in xrange(len(vectors)):\n",
    "    vectors[i] =  vectors[i][0], vectors[i][1], norm(vectors[i])"
   ]
  },
  {
   "cell_type": "code",
   "execution_count": 195,
   "metadata": {
    "collapsed": true
   },
   "outputs": [],
   "source": [
    "dill.dump(vectors, open(\"vectors.pkl\", \"wb\"))"
   ]
  },
  {
   "cell_type": "code",
   "execution_count": 194,
   "metadata": {
    "collapsed": true
   },
   "outputs": [],
   "source": [
    "def norm(vect):\n",
    "    if type(vect) == tuple:\n",
    "        vect = vect[1]\n",
    "    return math.sqrt(sum((v * v for v in vect.values())))\n",
    "def distance(v1, v2):\n",
    "    v1, n1 = v1[1:3]\n",
    "    v2, n2 = v2[1:3] \n",
    "    dist = sum((v1[w] * v2[w] for w in set(v1).intersection(v2)), 0.0)\n",
    "    return dist / (n1 * n1)"
   ]
  },
  {
   "cell_type": "code",
   "execution_count": 196,
   "metadata": {
    "collapsed": false
   },
   "outputs": [
    {
     "data": {
      "text/plain": [
       "(2,\n",
       " defaultdict(<function __main__.<lambda>>,\n",
       "             {'4171': 0.49787583755381826,\n",
       "              'and': 0.22686251165346813,\n",
       "              'arrival': 0.45189397793206915,\n",
       "              'box': 0.2233729500125791,\n",
       "              'case': 0.1614701117579361,\n",
       "              'erika': 0.4663691475283662,\n",
       "              'feminino': 0.5109522953925355,\n",
       "              'frame': 0.25059170744305903,\n",
       "              'gafas': 0.5293825275792703,\n",
       "              'glasses': 0.7510932130361975,\n",
       "              'kacamata': 0.2328236070730618,\n",
       "              'keren': 0.2166144446332587,\n",
       "              'logo': 0.2868765575942361,\n",
       "              'masculino': 0.5293825275792703,\n",
       "              'men': 0.2954055059059315,\n",
       "              'new': 0.19716081677671735,\n",
       "              'sun': 0.351111012293756,\n",
       "              'sunglasses': 0.3563524144078921,\n",
       "              'velvet': 0.3563524144078921,\n",
       "              'with': 0.20376618155491144,\n",
       "              'women': 0.30641549219570535}),\n",
       " 1.7515000162534715)"
      ]
     },
     "execution_count": 196,
     "metadata": {},
     "output_type": "execute_result"
    }
   ],
   "source": [
    "vectors[1]"
   ]
  },
  {
   "cell_type": "code",
   "execution_count": 188,
   "metadata": {
    "collapsed": false
   },
   "outputs": [
    {
     "data": {
      "text/plain": [
       "76.50478055555556"
      ]
     },
     "execution_count": 188,
     "metadata": {},
     "output_type": "execute_result"
    }
   ],
   "source": [
    "#sum( (vectors[1][1][w]*vectors[1][1][w] for w in  set(vectors[1][1]).intersection(vectors[2][1])))\n",
    "#vectors[4], vectors[214], norm(vectors[4]), norm(vectors[214]), \n",
    "##distance(vectors[2], vectors[1])\n",
    "#prod_ids = sorted([prod_id for prod_id, _ in vectors])\n",
    "#prod_ids[:10]\n",
    "(len(vectors) / 2) * 2.41 / (60*60)"
   ]
  },
  {
   "cell_type": "code",
   "execution_count": 201,
   "metadata": {
    "collapsed": false
   },
   "outputs": [
    {
     "ename": "KeyboardInterrupt",
     "evalue": "",
     "output_type": "error",
     "traceback": [
      "\u001b[1;31m---------------------------------------------------------------------------\u001b[0m",
      "\u001b[1;31mKeyboardInterrupt\u001b[0m                         Traceback (most recent call last)",
      "\u001b[1;32m<ipython-input-201-8bec81dc526a>\u001b[0m in \u001b[0;36m<module>\u001b[1;34m()\u001b[0m\n\u001b[1;32m----> 1\u001b[1;33m \u001b[0mget_ipython\u001b[0m\u001b[1;33m(\u001b[0m\u001b[1;33m)\u001b[0m\u001b[1;33m.\u001b[0m\u001b[0mrun_cell_magic\u001b[0m\u001b[1;33m(\u001b[0m\u001b[1;34mu'time'\u001b[0m\u001b[1;33m,\u001b[0m \u001b[1;34mu''\u001b[0m\u001b[1;33m,\u001b[0m \u001b[1;34mu'sim = []\\nstart = 13000 \\nend = start + 10000\\nfor i in xrange(start, end):\\n    for j in xrange(i + 1, len(vectors)):\\n        try: \\n            dist = distance(vectors[i], vectors[j])\\n            if dist > 0.01:\\n                sim.append((vectors[i][0], vectors[j][0], round(dist, 5)))\\n        except Exception as e:\\n            print e\\n            print \"***\", i, j'\u001b[0m\u001b[1;33m)\u001b[0m\u001b[1;33m\u001b[0m\u001b[0m\n\u001b[0m",
      "\u001b[1;32m/usr/local/lib/python2.7/dist-packages/IPython/core/interactiveshell.pyc\u001b[0m in \u001b[0;36mrun_cell_magic\u001b[1;34m(self, magic_name, line, cell)\u001b[0m\n\u001b[0;32m   2291\u001b[0m             \u001b[0mmagic_arg_s\u001b[0m \u001b[1;33m=\u001b[0m \u001b[0mself\u001b[0m\u001b[1;33m.\u001b[0m\u001b[0mvar_expand\u001b[0m\u001b[1;33m(\u001b[0m\u001b[0mline\u001b[0m\u001b[1;33m,\u001b[0m \u001b[0mstack_depth\u001b[0m\u001b[1;33m)\u001b[0m\u001b[1;33m\u001b[0m\u001b[0m\n\u001b[0;32m   2292\u001b[0m             \u001b[1;32mwith\u001b[0m \u001b[0mself\u001b[0m\u001b[1;33m.\u001b[0m\u001b[0mbuiltin_trap\u001b[0m\u001b[1;33m:\u001b[0m\u001b[1;33m\u001b[0m\u001b[0m\n\u001b[1;32m-> 2293\u001b[1;33m                 \u001b[0mresult\u001b[0m \u001b[1;33m=\u001b[0m \u001b[0mfn\u001b[0m\u001b[1;33m(\u001b[0m\u001b[0mmagic_arg_s\u001b[0m\u001b[1;33m,\u001b[0m \u001b[0mcell\u001b[0m\u001b[1;33m)\u001b[0m\u001b[1;33m\u001b[0m\u001b[0m\n\u001b[0m\u001b[0;32m   2294\u001b[0m             \u001b[1;32mreturn\u001b[0m \u001b[0mresult\u001b[0m\u001b[1;33m\u001b[0m\u001b[0m\n\u001b[0;32m   2295\u001b[0m \u001b[1;33m\u001b[0m\u001b[0m\n",
      "\u001b[1;32m/usr/local/lib/python2.7/dist-packages/IPython/core/magics/execution.pyc\u001b[0m in \u001b[0;36mtime\u001b[1;34m(self, line, cell, local_ns)\u001b[0m\n",
      "\u001b[1;32m/usr/local/lib/python2.7/dist-packages/IPython/core/magic.pyc\u001b[0m in \u001b[0;36m<lambda>\u001b[1;34m(f, *a, **k)\u001b[0m\n\u001b[0;32m    191\u001b[0m     \u001b[1;31m# but it's overkill for just that one bit of state.\u001b[0m\u001b[1;33m\u001b[0m\u001b[1;33m\u001b[0m\u001b[0m\n\u001b[0;32m    192\u001b[0m     \u001b[1;32mdef\u001b[0m \u001b[0mmagic_deco\u001b[0m\u001b[1;33m(\u001b[0m\u001b[0marg\u001b[0m\u001b[1;33m)\u001b[0m\u001b[1;33m:\u001b[0m\u001b[1;33m\u001b[0m\u001b[0m\n\u001b[1;32m--> 193\u001b[1;33m         \u001b[0mcall\u001b[0m \u001b[1;33m=\u001b[0m \u001b[1;32mlambda\u001b[0m \u001b[0mf\u001b[0m\u001b[1;33m,\u001b[0m \u001b[1;33m*\u001b[0m\u001b[0ma\u001b[0m\u001b[1;33m,\u001b[0m \u001b[1;33m**\u001b[0m\u001b[0mk\u001b[0m\u001b[1;33m:\u001b[0m \u001b[0mf\u001b[0m\u001b[1;33m(\u001b[0m\u001b[1;33m*\u001b[0m\u001b[0ma\u001b[0m\u001b[1;33m,\u001b[0m \u001b[1;33m**\u001b[0m\u001b[0mk\u001b[0m\u001b[1;33m)\u001b[0m\u001b[1;33m\u001b[0m\u001b[0m\n\u001b[0m\u001b[0;32m    194\u001b[0m \u001b[1;33m\u001b[0m\u001b[0m\n\u001b[0;32m    195\u001b[0m         \u001b[1;32mif\u001b[0m \u001b[0mcallable\u001b[0m\u001b[1;33m(\u001b[0m\u001b[0marg\u001b[0m\u001b[1;33m)\u001b[0m\u001b[1;33m:\u001b[0m\u001b[1;33m\u001b[0m\u001b[0m\n",
      "\u001b[1;32m/usr/local/lib/python2.7/dist-packages/IPython/core/magics/execution.pyc\u001b[0m in \u001b[0;36mtime\u001b[1;34m(self, line, cell, local_ns)\u001b[0m\n\u001b[0;32m   1165\u001b[0m         \u001b[1;32melse\u001b[0m\u001b[1;33m:\u001b[0m\u001b[1;33m\u001b[0m\u001b[0m\n\u001b[0;32m   1166\u001b[0m             \u001b[0mst\u001b[0m \u001b[1;33m=\u001b[0m \u001b[0mclock2\u001b[0m\u001b[1;33m(\u001b[0m\u001b[1;33m)\u001b[0m\u001b[1;33m\u001b[0m\u001b[0m\n\u001b[1;32m-> 1167\u001b[1;33m             \u001b[1;32mexec\u001b[0m\u001b[1;33m(\u001b[0m\u001b[0mcode\u001b[0m\u001b[1;33m,\u001b[0m \u001b[0mglob\u001b[0m\u001b[1;33m,\u001b[0m \u001b[0mlocal_ns\u001b[0m\u001b[1;33m)\u001b[0m\u001b[1;33m\u001b[0m\u001b[0m\n\u001b[0m\u001b[0;32m   1168\u001b[0m             \u001b[0mend\u001b[0m \u001b[1;33m=\u001b[0m \u001b[0mclock2\u001b[0m\u001b[1;33m(\u001b[0m\u001b[1;33m)\u001b[0m\u001b[1;33m\u001b[0m\u001b[0m\n\u001b[0;32m   1169\u001b[0m             \u001b[0mout\u001b[0m \u001b[1;33m=\u001b[0m \u001b[0mNone\u001b[0m\u001b[1;33m\u001b[0m\u001b[0m\n",
      "\u001b[1;32m<timed exec>\u001b[0m in \u001b[0;36m<module>\u001b[1;34m()\u001b[0m\n",
      "\u001b[1;31mKeyboardInterrupt\u001b[0m: "
     ]
    }
   ],
   "source": [
    "%%time\n",
    "sim = []\n",
    "start = 13000 \n",
    "end = start + 10000\n",
    "for i in xrange(start, end):\n",
    "    for j in xrange(i + 1, len(vectors)):\n",
    "        try: \n",
    "            dist = distance(vectors[i], vectors[j])\n",
    "            if dist > 0.01:\n",
    "                sim.append((vectors[i][0], vectors[j][0], round(dist, 5)))\n",
    "        except Exception as e:\n",
    "            print e\n",
    "            print \"***\", i, j"
   ]
  },
  {
   "cell_type": "code",
   "execution_count": 197,
   "metadata": {
    "collapsed": true
   },
   "outputs": [],
   "source": [
    "import csv\n",
    "with open(\"sim_{0}_{1}.csv\".format(start, end), \"w\") as f:\n",
    "    csv_writer = csv.writer(f)\n",
    "    csv_writer.writerows(sim)"
   ]
  },
  {
   "cell_type": "code",
   "execution_count": null,
   "metadata": {
    "collapsed": true
   },
   "outputs": [],
   "source": [
    "#this can take some time\n",
    "tfidf = TfidfVectorizer(tokenizer=tokenize, stop_words='indonesian')\n",
    "tfs = tfidf.fit_transform(token_dict.values())"
   ]
  },
  {
   "cell_type": "code",
   "execution_count": null,
   "metadata": {
    "collapsed": true
   },
   "outputs": [],
   "source": []
  },
  {
   "cell_type": "code",
   "execution_count": 205,
   "metadata": {
    "collapsed": false
   },
   "outputs": [
    {
     "data": {
      "text/plain": [
       "['In',\n",
       " 'IndonesianStemmer',\n",
       " 'Out',\n",
       " 'TFIDF',\n",
       " '_',\n",
       " '_105',\n",
       " '_106',\n",
       " '_107',\n",
       " '_108',\n",
       " '_110',\n",
       " '_111',\n",
       " '_112',\n",
       " '_113',\n",
       " '_114',\n",
       " '_115',\n",
       " '_116',\n",
       " '_118',\n",
       " '_121',\n",
       " '_122',\n",
       " '_124',\n",
       " '_126',\n",
       " '_128',\n",
       " '_129',\n",
       " '_130',\n",
       " '_131',\n",
       " '_132',\n",
       " '_134',\n",
       " '_135',\n",
       " '_136',\n",
       " '_140',\n",
       " '_144',\n",
       " '_145',\n",
       " '_146',\n",
       " '_150',\n",
       " '_151',\n",
       " '_153',\n",
       " '_154',\n",
       " '_157',\n",
       " '_16',\n",
       " '_162',\n",
       " '_165',\n",
       " '_166',\n",
       " '_17',\n",
       " '_172',\n",
       " '_173',\n",
       " '_174',\n",
       " '_175',\n",
       " '_177',\n",
       " '_18',\n",
       " '_184',\n",
       " '_185',\n",
       " '_186',\n",
       " '_187',\n",
       " '_188',\n",
       " '_19',\n",
       " '_191',\n",
       " '_196',\n",
       " '_198',\n",
       " '_199',\n",
       " '_203',\n",
       " '_204',\n",
       " '_22',\n",
       " '_24',\n",
       " '_25',\n",
       " '_26',\n",
       " '_28',\n",
       " '_29',\n",
       " '_30',\n",
       " '_31',\n",
       " '_32',\n",
       " '_36',\n",
       " '_37',\n",
       " '_39',\n",
       " '_40',\n",
       " '_41',\n",
       " '_42',\n",
       " '_44',\n",
       " '_45',\n",
       " '_51',\n",
       " '_52',\n",
       " '_53',\n",
       " '_55',\n",
       " '_56',\n",
       " '_58',\n",
       " '_59',\n",
       " '_6',\n",
       " '_60',\n",
       " '_61',\n",
       " '_62',\n",
       " '_64',\n",
       " '_65',\n",
       " '_66',\n",
       " '_67',\n",
       " '_7',\n",
       " '_70',\n",
       " '_73',\n",
       " '_74',\n",
       " '_75',\n",
       " '_76',\n",
       " '_77',\n",
       " '_81',\n",
       " '_83',\n",
       " '_9',\n",
       " '_97',\n",
       " '_99',\n",
       " '__',\n",
       " '___',\n",
       " '__builtin__',\n",
       " '__builtins__',\n",
       " '__doc__',\n",
       " '__name__',\n",
       " '__package__',\n",
       " '_dh',\n",
       " '_i',\n",
       " '_i1',\n",
       " '_i10',\n",
       " '_i100',\n",
       " '_i101',\n",
       " '_i102',\n",
       " '_i103',\n",
       " '_i104',\n",
       " '_i105',\n",
       " '_i106',\n",
       " '_i107',\n",
       " '_i108',\n",
       " '_i109',\n",
       " '_i11',\n",
       " '_i110',\n",
       " '_i111',\n",
       " '_i112',\n",
       " '_i113',\n",
       " '_i114',\n",
       " '_i115',\n",
       " '_i116',\n",
       " '_i117',\n",
       " '_i118',\n",
       " '_i119',\n",
       " '_i12',\n",
       " '_i120',\n",
       " '_i121',\n",
       " '_i122',\n",
       " '_i123',\n",
       " '_i124',\n",
       " '_i125',\n",
       " '_i126',\n",
       " '_i127',\n",
       " '_i128',\n",
       " '_i129',\n",
       " '_i13',\n",
       " '_i130',\n",
       " '_i131',\n",
       " '_i132',\n",
       " '_i133',\n",
       " '_i134',\n",
       " '_i135',\n",
       " '_i136',\n",
       " '_i137',\n",
       " '_i138',\n",
       " '_i139',\n",
       " '_i14',\n",
       " '_i140',\n",
       " '_i141',\n",
       " '_i142',\n",
       " '_i143',\n",
       " '_i144',\n",
       " '_i145',\n",
       " '_i146',\n",
       " '_i147',\n",
       " '_i148',\n",
       " '_i149',\n",
       " '_i15',\n",
       " '_i150',\n",
       " '_i151',\n",
       " '_i152',\n",
       " '_i153',\n",
       " '_i154',\n",
       " '_i155',\n",
       " '_i156',\n",
       " '_i157',\n",
       " '_i158',\n",
       " '_i159',\n",
       " '_i16',\n",
       " '_i160',\n",
       " '_i161',\n",
       " '_i162',\n",
       " '_i163',\n",
       " '_i164',\n",
       " '_i165',\n",
       " '_i166',\n",
       " '_i167',\n",
       " '_i168',\n",
       " '_i169',\n",
       " '_i17',\n",
       " '_i170',\n",
       " '_i171',\n",
       " '_i172',\n",
       " '_i173',\n",
       " '_i174',\n",
       " '_i175',\n",
       " '_i176',\n",
       " '_i177',\n",
       " '_i178',\n",
       " '_i179',\n",
       " '_i18',\n",
       " '_i180',\n",
       " '_i181',\n",
       " '_i182',\n",
       " '_i183',\n",
       " '_i184',\n",
       " '_i185',\n",
       " '_i186',\n",
       " '_i187',\n",
       " '_i188',\n",
       " '_i189',\n",
       " '_i19',\n",
       " '_i190',\n",
       " '_i191',\n",
       " '_i192',\n",
       " '_i193',\n",
       " '_i194',\n",
       " '_i195',\n",
       " '_i196',\n",
       " '_i197',\n",
       " '_i198',\n",
       " '_i199',\n",
       " '_i2',\n",
       " '_i20',\n",
       " '_i200',\n",
       " '_i201',\n",
       " '_i202',\n",
       " '_i203',\n",
       " '_i204',\n",
       " '_i205',\n",
       " '_i21',\n",
       " '_i22',\n",
       " '_i23',\n",
       " '_i24',\n",
       " '_i25',\n",
       " '_i26',\n",
       " '_i27',\n",
       " '_i28',\n",
       " '_i29',\n",
       " '_i3',\n",
       " '_i30',\n",
       " '_i31',\n",
       " '_i32',\n",
       " '_i33',\n",
       " '_i34',\n",
       " '_i35',\n",
       " '_i36',\n",
       " '_i37',\n",
       " '_i38',\n",
       " '_i39',\n",
       " '_i4',\n",
       " '_i40',\n",
       " '_i41',\n",
       " '_i42',\n",
       " '_i43',\n",
       " '_i44',\n",
       " '_i45',\n",
       " '_i46',\n",
       " '_i47',\n",
       " '_i48',\n",
       " '_i49',\n",
       " '_i5',\n",
       " '_i50',\n",
       " '_i51',\n",
       " '_i52',\n",
       " '_i53',\n",
       " '_i54',\n",
       " '_i55',\n",
       " '_i56',\n",
       " '_i57',\n",
       " '_i58',\n",
       " '_i59',\n",
       " '_i6',\n",
       " '_i60',\n",
       " '_i61',\n",
       " '_i62',\n",
       " '_i63',\n",
       " '_i64',\n",
       " '_i65',\n",
       " '_i66',\n",
       " '_i67',\n",
       " '_i68',\n",
       " '_i69',\n",
       " '_i7',\n",
       " '_i70',\n",
       " '_i71',\n",
       " '_i72',\n",
       " '_i73',\n",
       " '_i74',\n",
       " '_i75',\n",
       " '_i76',\n",
       " '_i77',\n",
       " '_i78',\n",
       " '_i79',\n",
       " '_i8',\n",
       " '_i80',\n",
       " '_i81',\n",
       " '_i82',\n",
       " '_i83',\n",
       " '_i84',\n",
       " '_i85',\n",
       " '_i86',\n",
       " '_i87',\n",
       " '_i88',\n",
       " '_i89',\n",
       " '_i9',\n",
       " '_i90',\n",
       " '_i91',\n",
       " '_i92',\n",
       " '_i93',\n",
       " '_i94',\n",
       " '_i95',\n",
       " '_i96',\n",
       " '_i97',\n",
       " '_i98',\n",
       " '_i99',\n",
       " '_ih',\n",
       " '_ii',\n",
       " '_iii',\n",
       " '_oh',\n",
       " '_sh',\n",
       " 'collection',\n",
       " 'csv',\n",
       " 'csv_writer',\n",
       " 'defaultdict',\n",
       " 'dill',\n",
       " 'dist',\n",
       " 'distance',\n",
       " 'e',\n",
       " 'end',\n",
       " 'exit',\n",
       " 'f',\n",
       " 'get_ipython',\n",
       " 'i',\n",
       " 'j',\n",
       " 'k',\n",
       " 'math',\n",
       " 'nltk',\n",
       " 'nltk_repr',\n",
       " 'norm',\n",
       " 'pi',\n",
       " 'pj',\n",
       " 'prod_id',\n",
       " 'prod_ids',\n",
       " 'quit',\n",
       " 'raw_file',\n",
       " 're',\n",
       " 'sim',\n",
       " 'start',\n",
       " 'stem_tokens',\n",
       " 'stemmer',\n",
       " 'string',\n",
       " 't',\n",
       " 'terms',\n",
       " 'title',\n",
       " 'token_dict',\n",
       " 'tokenize',\n",
       " 'tokenizer',\n",
       " 'unique_terms',\n",
       " 'vectors']"
      ]
     },
     "execution_count": 205,
     "metadata": {},
     "output_type": "execute_result"
    }
   ],
   "source": [
    "dir()"
   ]
  },
  {
   "cell_type": "code",
   "execution_count": 208,
   "metadata": {
    "collapsed": true
   },
   "outputs": [],
   "source": [
    "del()"
   ]
  }
 ],
 "metadata": {
  "kernelspec": {
   "display_name": "Python 2",
   "language": "python",
   "name": "python2"
  },
  "language_info": {
   "codemirror_mode": {
    "name": "ipython",
    "version": 2
   },
   "file_extension": ".py",
   "mimetype": "text/x-python",
   "name": "python",
   "nbconvert_exporter": "python",
   "pygments_lexer": "ipython2",
   "version": "2.7.6"
  }
 },
 "nbformat": 4,
 "nbformat_minor": 0
}
