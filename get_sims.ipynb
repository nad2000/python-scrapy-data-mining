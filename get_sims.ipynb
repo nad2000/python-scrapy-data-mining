{
 "cells": [
  {
   "cell_type": "code",
   "execution_count": 1,
   "metadata": {
    "collapsed": true
   },
   "outputs": [],
   "source": [
    "import dill\n",
    "import math\n",
    "from collections import defaultdict\n",
    "import csv\n",
    "import itertools\n",
    "import random\n",
    "import multiprocessing\n",
    "import csv"
   ]
  },
  {
   "cell_type": "code",
   "execution_count": 2,
   "metadata": {
    "collapsed": false
   },
   "outputs": [],
   "source": [
    "vectors = dill.load(open(\"vectors.pkl\", 'r'))"
   ]
  },
  {
   "cell_type": "code",
   "execution_count": 3,
   "metadata": {
    "collapsed": false
   },
   "outputs": [
    {
     "name": "stdout",
     "output_type": "stream",
     "text": [
      "CPU times: user 876 ms, sys: 36 ms, total: 912 ms\n",
      "Wall time: 1.63 s\n"
     ]
    }
   ],
   "source": [
    "%%time\n",
    "\n",
    "product_category = defaultdict(lambda: None)\n",
    "with open('/data/corpus.csv') as raw_file:\n",
    "    for (prod_id, _, url) in csv.reader(raw_file):\n",
    "        url = url.split('/')\n",
    "        if url[3] != 'p':\n",
    "            continue\n",
    "        product_category[int(prod_id)] = '/'.join(url[4:-1])"
   ]
  },
  {
   "cell_type": "code",
   "execution_count": 4,
   "metadata": {
    "collapsed": false
   },
   "outputs": [
    {
     "name": "stdout",
     "output_type": "stream",
     "text": [
      "Total products: 228562\n",
      "Total categories: 656\n"
     ]
    }
   ],
   "source": [
    "categories = sorted(list(set(product_category.values())))\n",
    "print \"Total products:\", len(product_category)\n",
    "print \"Total categories:\", len(categories)"
   ]
  },
  {
   "cell_type": "code",
   "execution_count": 5,
   "metadata": {
    "collapsed": false
   },
   "outputs": [],
   "source": [
    "category_product = sorted(((c, p) for (p, c) in product_category.items()), key=lambda e: e[0])\n",
    "category_product = [(c, [p for (_, p) in pi]) for c, pi in itertools.groupby(category_product, key=lambda p: p[0])]"
   ]
  },
  {
   "cell_type": "code",
   "execution_count": 6,
   "metadata": {
    "collapsed": false
   },
   "outputs": [],
   "source": [
    "cat_counts = ((c, len(pl)) for (c, pl) in category_product)\n",
    "cat_counts = sorted(cat_counts, key=lambda e: e[1])"
   ]
  },
  {
   "cell_type": "code",
   "execution_count": 7,
   "metadata": {
    "collapsed": false
   },
   "outputs": [
    {
     "data": {
      "text/plain": [
       "[('food/bumbu', 1),\n",
       " ('hobi/olahraga', 1),\n",
       " ('onderdil-mobil', 1),\n",
       " ('onderdil-mobil/eksterior-mobil', 1),\n",
       " ('onderdil-mobil/exhaust-system-mobil/header', 1),\n",
       " ('onderdil-mobil/interior-mobil', 1),\n",
       " ('onderdil-mobil/produk-perawatan-mobil', 1),\n",
       " ('onderdil-motor/sparepart-motor/dinamo', 1),\n",
       " ('perlengkapan-bayi/makanan-711/jus', 1),\n",
       " ('sepeda/brake/cantilever', 1),\n",
       " ('hobi/mainan/diecast', 3395),\n",
       " ('fashion/pria/sepatu-169', 3494),\n",
       " ('rumah-tangga/home-stuff', 3976),\n",
       " ('fashion/wanita/tas-wanita', 4211),\n",
       " ('personal-care/produk-kesehatan', 4672),\n",
       " ('rumah-tangga/dapur', 4803),\n",
       " ('elektronik/lain-lain-208', 5011),\n",
       " ('fashion/pria/jam-tangan-171', 6208),\n",
       " ('handphone/aksesoris-handphone', 6827),\n",
       " ('handphone/case-cover', 9072)]"
      ]
     },
     "execution_count": 7,
     "metadata": {},
     "output_type": "execute_result"
    }
   ],
   "source": [
    "cat_counts[:10] + cat_counts[-10:]"
   ]
  },
  {
   "cell_type": "code",
   "execution_count": 8,
   "metadata": {
    "collapsed": true
   },
   "outputs": [],
   "source": [
    "category_product = dict(category_product)"
   ]
  },
  {
   "cell_type": "code",
   "execution_count": 9,
   "metadata": {
    "collapsed": true
   },
   "outputs": [],
   "source": [
    "def category_products(category):\n",
    "    \"\"\"\n",
    "    Returns all products belonging to the product category\n",
    "    \"\"\"\n",
    "    return category_product[category]"
   ]
  },
  {
   "cell_type": "code",
   "execution_count": 10,
   "metadata": {
    "collapsed": true
   },
   "outputs": [],
   "source": [
    "#category_product[\"hobi/mainan/diecast\"]\n",
    "#vectors[1]"
   ]
  },
  {
   "cell_type": "code",
   "execution_count": 11,
   "metadata": {
    "collapsed": false
   },
   "outputs": [
    {
     "name": "stdout",
     "output_type": "stream",
     "text": [
      "CPU times: user 712 ms, sys: 40 ms, total: 752 ms\n",
      "Wall time: 733 ms\n"
     ]
    }
   ],
   "source": [
    "%%time\n",
    "products = {}\n",
    "for v in vectors:\n",
    "    products[v[0]] = (v[1], v[2])"
   ]
  },
  {
   "cell_type": "code",
   "execution_count": 12,
   "metadata": {
    "collapsed": true
   },
   "outputs": [],
   "source": [
    "del(vectors)"
   ]
  },
  {
   "cell_type": "code",
   "execution_count": 13,
   "metadata": {
    "collapsed": true
   },
   "outputs": [],
   "source": [
    "def norm(vect):\n",
    "    if type(vect) == tuple:\n",
    "        vect = vect[0]\n",
    "    return math.sqrt(sum((v * v for v in vect.values())))\n",
    "\n",
    "def distance(v1, v2):\n",
    "    #global product_category\n",
    "    #c1, c2 = product_category[v1[2]], product_category[v2[2]]\n",
    "    # if produts belong to different categories they ARE DIFFERENT:\n",
    "    #if c1 == None or c2 == None or c1 != c2:\n",
    "    #    return 0.\n",
    "    v1, n1 = v1[:2]\n",
    "    v2, n2 = v2[:2] \n",
    "    dist = sum((v1[w] * v2[w] for w in set(v1).intersection(v2)), 0.0)\n",
    "    return dist / (n1 * n1)\n",
    "\n",
    "def chunks(l, num):\n",
    "    \"\"\"\n",
    "    splits list in num chunks\n",
    "    for running in parallel\n",
    "    \"\"\"\n",
    "    n = len(l) / num + 1 \n",
    "    return [l[i:i + n] for i in range(0, len(l), n)]"
   ]
  },
  {
   "cell_type": "code",
   "execution_count": 14,
   "metadata": {
    "collapsed": false,
    "scrolled": true
   },
   "outputs": [],
   "source": [
    "def save_sims(category, sims):\n",
    "    with open(\"/data/python-scrapy-data-mining/sims_{0}.csv\".format(category.replace('/','_')), \"w\") as f:\n",
    "        csv_writer = csv.writer(f)\n",
    "        csv_writer.writerows(sims)\n",
    "\n",
    "def get_sim(categories):\n",
    "    global category_product, products\n",
    "    for cat in categories:\n",
    "        sim = []\n",
    "        prod_ids = category_product[cat]\n",
    "        # ignore categories with a single product:\n",
    "        if len(prod_ids) < 2:\n",
    "            continue\n",
    "        for i in prod_ids[:-1]:\n",
    "            for j in (pid for pid in prod_ids if pid > i):\n",
    "                try: \n",
    "                    dist = distance(products[i], products[j])\n",
    "                    if dist > 0.01:\n",
    "                        sim.append((i, j, round(dist, 7)))\n",
    "                except Exception as e:\n",
    "                    print e\n",
    "                    print \"***\", i, j\n",
    "        # Store in a CSV file and free the memory:\n",
    "        save_sims(cat, sim)\n",
    "        del(sim)\n",
    "        #print \"*** Category:\", cat, \"of\", len(prod_ids), \"products\"\n"
   ]
  },
  {
   "cell_type": "code",
   "execution_count": 15,
   "metadata": {
    "collapsed": false
   },
   "outputs": [
    {
     "name": "stdout",
     "output_type": "stream",
     "text": [
      "CPU times: user 508 ms, sys: 288 ms, total: 796 ms\n",
      "Wall time: 8min 1s\n"
     ]
    }
   ],
   "source": [
    "%%time\n",
    "\n",
    "random.shuffle(categories)\n",
    "pool = multiprocessing.Pool(processes=8)\n",
    "pool.map(get_sim, chunks(categories, 8))"
   ]
  }
 ],
 "metadata": {
  "kernelspec": {
   "display_name": "Python 2",
   "language": "python",
   "name": "python2"
  },
  "language_info": {
   "codemirror_mode": {
    "name": "ipython",
    "version": 2
   },
   "file_extension": ".py",
   "mimetype": "text/x-python",
   "name": "python",
   "nbconvert_exporter": "python",
   "pygments_lexer": "ipython2",
   "version": "2.7.6"
  }
 },
 "nbformat": 4,
 "nbformat_minor": 0
}
