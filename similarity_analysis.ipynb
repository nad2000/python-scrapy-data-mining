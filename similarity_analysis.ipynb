{
 "cells": [
  {
   "cell_type": "code",
   "execution_count": 1,
   "metadata": {
    "collapsed": false
   },
   "outputs": [],
   "source": [
    "##%matplotlib inline\n",
    "import csv\n",
    "import nltk\n",
    "#from nltk.stem.porter import PorterStemmer\n",
    "from stem import IndonesianStemmer\n",
    "import string\n",
    "#import os\n",
    "import re\n",
    "from collections import defaultdict\n",
    "import multiprocessing\n",
    "import dill\n",
    "import utils"
   ]
  },
  {
   "cell_type": "code",
   "execution_count": 4,
   "metadata": {
    "collapsed": false
   },
   "outputs": [],
   "source": [
    "#stopwords = nltk.corpus.stopwords.words('indonesian')"
   ]
  },
  {
   "cell_type": "code",
   "execution_count": 3,
   "metadata": {
    "collapsed": false
   },
   "outputs": [
    {
     "name": "stdout",
     "output_type": "stream",
     "text": [
      "CPU times: user 12.9 s, sys: 100 ms, total: 13 s\n",
      "Wall time: 12.9 s\n"
     ]
    },
    {
     "name": "stderr",
     "output_type": "stream",
     "text": [
      "stem.py:45: UnicodeWarning: Unicode equal comparison failed to convert both arguments to Unicode - interpreting them as being unequal\n",
      "  return letter in [u'a', u'e', u'i', u'o', u'u']\n"
     ]
    }
   ],
   "source": [
    "%%time\n",
    "token_dict = defaultdict(lambda: None)\n",
    "product_category = defaultdict(lambda: None)\n",
    "\n",
    "with open('/data/python-scrapy-data-mining/corpus.csv') as raw_file:\n",
    "    for (prod_id, title, url) in csv.reader(raw_file):\n",
    "\n",
    "        url = url.split('/')\n",
    "        if url[3] != 'p':\n",
    "            continue\n",
    "        cat = '/'.join(url[4:-1])\n",
    "        product_category[int(prod_id)] = cat\n",
    "        token_dict[int(prod_id)] = utils.tokenize_and_stem_ID(\n",
    "            title.lower().translate(None, string.punctuation))"
   ]
  },
  {
   "cell_type": "code",
   "execution_count": 4,
   "metadata": {
    "collapsed": false
   },
   "outputs": [
    {
     "name": "stdout",
     "output_type": "stream",
     "text": [
      "CPU times: user 728 ms, sys: 24 ms, total: 752 ms\n",
      "Wall time: 742 ms\n"
     ]
    }
   ],
   "source": [
    "%time collection = nltk.text.TextCollection(token_dict.values())"
   ]
  },
  {
   "cell_type": "code",
   "execution_count": 5,
   "metadata": {
    "collapsed": false
   },
   "outputs": [
    {
     "name": "stdout",
     "output_type": "stream",
     "text": [
      "Toal products: 228562\n",
      "Unique terms found:  101641\n"
     ]
    }
   ],
   "source": [
    "#get a list of unique terms\n",
    "print \"Toal products:\", len(token_dict)\n",
    "unique_terms = list(set(collection))\n",
    "print \"Unique terms found: \", len(unique_terms)"
   ]
  },
  {
   "cell_type": "code",
   "execution_count": 8,
   "metadata": {
    "collapsed": true
   },
   "outputs": [],
   "source": [
    "# Function to create a TF*IDF vector for one document.  For each of\n",
    "# our unique words, we have a feature which is the td*idf for that word\n",
    "# in the current document\n",
    "def TFIDF(document):\n",
    "    global collection\n",
    "    document_tfidf = {}\n",
    "    for word in unique_terms:\n",
    "        if word not in document:\n",
    "            continue\n",
    "        ifidf = collection.tf_idf(word, document)\n",
    "        if ifidf > 0.01:\n",
    "            document_tfidf[word] = ifidf\n",
    "    return document_tfidf"
   ]
  },
  {
   "cell_type": "code",
   "execution_count": 7,
   "metadata": {
    "collapsed": false
   },
   "outputs": [
    {
     "data": {
      "text/plain": [
       "{'akses': 0.46101537318034874,\n",
       " 'bahan': 0.23076973574225682,\n",
       " 'case': 0.1614701117579361,\n",
       " 'dan': 0.17965810369248522,\n",
       " 'design': 0.2972940969474257,\n",
       " 'eleg': 0.3084819637446488,\n",
       " 'flip': 0.23045209262253283,\n",
       " 'galaxy': 0.18783789178329843,\n",
       " 'kualitas': 0.26221271931655943,\n",
       " 'kulit': 0.21396189366829269,\n",
       " 'leather': 0.21236075889631367,\n",
       " 'mudah': 0.33223294845052076,\n",
       " 'pasang': 0.2986928087050054,\n",
       " 'port': 0.2644973481702362,\n",
       " 'pu': 0.3362691074861176,\n",
       " 'ringan': 0.3671310413755716,\n",
       " 's5': 0.2988350765690476,\n",
       " 'saat': 0.36170618875590954,\n",
       " 'samsung': 0.16557050769599174,\n",
       " 'sintesis': 0.5109522953925355,\n",
       " 'tinggi': 0.2970194462903365,\n",
       " 'tombol': 0.33963765167492316}"
      ]
     },
     "execution_count": 7,
     "metadata": {},
     "output_type": "execute_result"
    }
   ],
   "source": [
    "TFIDF(token_dict[1])"
   ]
  },
  {
   "cell_type": "code",
   "execution_count": 22,
   "metadata": {
    "collapsed": false
   },
   "outputs": [
    {
     "name": "stdout",
     "output_type": "stream",
     "text": [
      "CPU times: user 2.89 s, sys: 1.99 s, total: 4.88 s\n",
      "Wall time: 25min 49s\n"
     ]
    }
   ],
   "source": [
    "%%time\n",
    "def term_idf(terms):\n",
    "    global collection\n",
    "    return [(t, collection.idf(t)) for t in terms]\n",
    "\n",
    "pool = multiprocessing.Pool(processes=8)\n",
    "terms = pool.map(term_idf, utils.chunks(unique_terms, 8))"
   ]
  },
  {
   "cell_type": "code",
   "execution_count": 30,
   "metadata": {
    "collapsed": false
   },
   "outputs": [
    {
     "name": "stdout",
     "output_type": "stream",
     "text": [
      "Total unique terms: 101633\n"
     ]
    }
   ],
   "source": [
    "import operator\n",
    "#%time terms = reduce(operator.add, terms, [])\n",
    "terms = sorted(terms, key=lambda t: -t[1])\n",
    "print \"Total unique terms:\", len(terms)"
   ]
  },
  {
   "cell_type": "code",
   "execution_count": 34,
   "metadata": {
    "collapsed": false
   },
   "outputs": [
    {
     "data": {
      "text/plain": [
       "[('fawn', 12.339562787303892),\n",
       " ('tsukino', 12.339562787303892),\n",
       " ('5quot', 12.339562787303892),\n",
       " ('400410', 12.339562787303892),\n",
       " ('daiich', 12.339562787303892),\n",
       " ('asustrixgtx750tioc2gd5', 12.339562787303892),\n",
       " ('lodyne', 12.339562787303892),\n",
       " ('inlite', 12.339562787303892),\n",
       " ('n7100note', 12.339562787303892),\n",
       " ('ds1015', 12.339562787303892),\n",
       " '...',\n",
       " ('sepatu', 3.674984608974596),\n",
       " ('usb', 3.6517832953121205),\n",
       " ('samsung', 3.642551169311818),\n",
       " ('black', 3.6282841721734576),\n",
       " ('1', 3.6197553358259373),\n",
       " ('case', 3.552342458674594),\n",
       " ('jam', 3.5344875434332073),\n",
       " ('for', 3.494073550550618),\n",
       " ('tas', 3.3190520876119853),\n",
       " ('original', 3.1732788015246287)]"
      ]
     },
     "execution_count": 34,
     "metadata": {},
     "output_type": "execute_result"
    }
   ],
   "source": [
    "# Inverted Document Frequencies (of the unique terms):\n",
    "terms[:10] + [\"...\"] + terms[-10:]"
   ]
  },
  {
   "cell_type": "code",
   "execution_count": 44,
   "metadata": {
    "collapsed": false
   },
   "outputs": [
    {
     "name": "stdout",
     "output_type": "stream",
     "text": [
      "CPU times: user 1.99 s, sys: 328 ms, total: 2.32 s\n",
      "Wall time: 4.93 s\n"
     ]
    }
   ],
   "source": [
    "%time backup_object(terms, \"terms.pkl\")"
   ]
  },
  {
   "cell_type": "code",
   "execution_count": 73,
   "metadata": {
    "collapsed": false
   },
   "outputs": [
    {
     "name": "stdout",
     "output_type": "stream",
     "text": [
      "CPU times: user 2min 9s, sys: 844 ms, total: 2min 10s\n",
      "Wall time: 2min 9s\n"
     ]
    },
    {
     "data": {
      "text/plain": [
       "1000"
      ]
     },
     "execution_count": 73,
     "metadata": {},
     "output_type": "execute_result"
    }
   ],
   "source": [
    "#%time len([TFIDF(token_dict[k]) for k in token_dict.keys()[1000:2000]])"
   ]
  },
  {
   "cell_type": "code",
   "execution_count": 12,
   "metadata": {
    "collapsed": false
   },
   "outputs": [
    {
     "name": "stdout",
     "output_type": "stream",
     "text": [
      "CPU times: user 8.34 s, sys: 2.31 s, total: 10.7 s\n",
      "Wall time: 1h 12min 55s\n"
     ]
    },
    {
     "name": "stderr",
     "output_type": "stream",
     "text": [
      "/home/nad2000/venv/lib/python2.7/site-packages/ipykernel/__main__.py:8: UnicodeWarning: Unicode equal comparison failed to convert both arguments to Unicode - interpreting them as being unequal\n",
      "/home/nad2000/venv/local/lib/python2.7/site-packages/nltk/text.py:566: UnicodeWarning: Unicode equal comparison failed to convert both arguments to Unicode - interpreting them as being unequal\n",
      "  matches = len([True for text in self._texts if term in text])\n",
      "/home/nad2000/venv/lib/python2.7/site-packages/ipykernel/__main__.py:8: UnicodeWarning: Unicode equal comparison failed to convert both arguments to Unicode - interpreting them as being unequal\n",
      "/home/nad2000/venv/lib/python2.7/site-packages/ipykernel/__main__.py:8: UnicodeWarning: Unicode equal comparison failed to convert both arguments to Unicode - interpreting them as being unequal\n",
      "/home/nad2000/venv/local/lib/python2.7/site-packages/nltk/text.py:566: UnicodeWarning: Unicode equal comparison failed to convert both arguments to Unicode - interpreting them as being unequal\n",
      "  matches = len([True for text in self._texts if term in text])\n",
      "/home/nad2000/venv/lib/python2.7/site-packages/ipykernel/__main__.py:8: UnicodeWarning: Unicode equal comparison failed to convert both arguments to Unicode - interpreting them as being unequal\n",
      "/home/nad2000/venv/local/lib/python2.7/site-packages/nltk/text.py:566: UnicodeWarning: Unicode equal comparison failed to convert both arguments to Unicode - interpreting them as being unequal\n",
      "  matches = len([True for text in self._texts if term in text])\n",
      "/home/nad2000/venv/local/lib/python2.7/site-packages/nltk/text.py:566: UnicodeWarning: Unicode equal comparison failed to convert both arguments to Unicode - interpreting them as being unequal\n",
      "  matches = len([True for text in self._texts if term in text])\n",
      "/home/nad2000/venv/local/lib/python2.7/site-packages/nltk/text.py:557: UnicodeWarning: Unicode equal comparison failed to convert both arguments to Unicode - interpreting them as being unequal\n",
      "  return text.count(term) / len(text)\n"
     ]
    }
   ],
   "source": [
    "%%time\n",
    "# Vectorize products (into a list of tuples (product_id, vector representation)):\n",
    "### vectors = [(prod_id,TFIDF(token_dict[prod_id])) for prod_id in token_dict.keys()]\n",
    "\n",
    "def product_vectors(product_ids):\n",
    "    global token_dict\n",
    "    return [(prod_id,TFIDF(token_dict[prod_id])) for prod_id in product_ids]\n",
    "\n",
    "pool = multiprocessing.Pool(processes=4)\n",
    "vectors = pool.map(product_vectors, utils.chunks(token_dict.keys(), 4))"
   ]
  },
  {
   "cell_type": "code",
   "execution_count": 27,
   "metadata": {
    "collapsed": false
   },
   "outputs": [],
   "source": [
    "vectors = sum(vectors, [])"
   ]
  },
  {
   "cell_type": "code",
   "execution_count": 123,
   "metadata": {
    "collapsed": false
   },
   "outputs": [],
   "source": [
    "#dill.dump(vectors, open(\"vectors.pkl\", \"wb\"))"
   ]
  },
  {
   "cell_type": "code",
   "execution_count": 29,
   "metadata": {
    "collapsed": false
   },
   "outputs": [
    {
     "name": "stdout",
     "output_type": "stream",
     "text": [
      "CPU times: user 2.95 s, sys: 292 ms, total: 3.24 s\n",
      "Wall time: 5.53 s\n"
     ]
    }
   ],
   "source": [
    "%%time\n",
    "# Add norm values:\n",
    "vectors[:] = [(prod_id, (v, utils.norm(v))) for prod_id, v in vectors]\n",
    "products = dict(vectors)"
   ]
  },
  {
   "cell_type": "code",
   "execution_count": 33,
   "metadata": {
    "collapsed": false
   },
   "outputs": [
    {
     "name": "stdout",
     "output_type": "stream",
     "text": [
      "CPU times: user 17.1 s, sys: 0 ns, total: 17.1 s\n",
      "Wall time: 17 s\n"
     ]
    }
   ],
   "source": [
    "%%time\n",
    "dill.dump(products, open(\"products.pkl\", \"wb\"))"
   ]
  }
 ],
 "metadata": {
  "kernelspec": {
   "display_name": "Python 2",
   "language": "python",
   "name": "python2"
  },
  "language_info": {
   "codemirror_mode": {
    "name": "ipython",
    "version": 2
   },
   "file_extension": ".py",
   "mimetype": "text/x-python",
   "name": "python",
   "nbconvert_exporter": "python",
   "pygments_lexer": "ipython2",
   "version": "2.7.6"
  }
 },
 "nbformat": 4,
 "nbformat_minor": 0
}
