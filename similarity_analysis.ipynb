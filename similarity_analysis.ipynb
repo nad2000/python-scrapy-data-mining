{
 "cells": [
  {
   "cell_type": "code",
   "execution_count": 13,
   "metadata": {
    "collapsed": false
   },
   "outputs": [],
   "source": [
    "%matplotlib inline\n",
    "import csv\n",
    "import nltk\n",
    "#from nltk.stem.porter import PorterStemmer\n",
    "from stem import IndonesianStemmer\n",
    "import string\n",
    "#import os\n",
    "import re\n",
    "from collections import defaultdict"
   ]
  },
  {
   "cell_type": "code",
   "execution_count": 1,
   "metadata": {
    "collapsed": false
   },
   "outputs": [],
   "source": [
    "#stopwords = nltk.corpus.stopwords.words('indonesian')"
   ]
  },
  {
   "cell_type": "code",
   "execution_count": 2,
   "metadata": {
    "collapsed": false
   },
   "outputs": [],
   "source": [
    "stemmer = IndonesianStemmer()\n",
    "tokenizer = nltk.tokenize.RegexpTokenizer(\"[\\w']+\", flags=re.UNICODE)\n",
    "\n",
    "def stem_tokens(tokens, stemmer):\n",
    "    stemmed = []\n",
    "    for item in tokens:\n",
    "        stemmed.append(stemmer.stem(item))\n",
    "    return stemmed\n",
    "\n",
    "def tokenize(text):\n",
    "    global stemmer, tokenizer\n",
    "    #tokens = nltk.word_tokenize(text, language=\"indonesian\")\n",
    "    tokens = tokenizer.tokenize(text)\n",
    "    \n",
    "    stems = stem_tokens(tokens, stemmer)\n",
    "    return stems"
   ]
  },
  {
   "cell_type": "code",
   "execution_count": 4,
   "metadata": {
    "collapsed": false
   },
   "outputs": [],
   "source": [
    "token_dict = {}\n",
    "with open('/data/corpus.csv') as raw_file:\n",
    "    for (prod_id, title, _) in csv.reader(raw_file):\n",
    "        token_dict[int(prod_id)] = tokenize(\n",
    "            title.lower().translate(None, string.punctuation))"
   ]
  },
  {
   "cell_type": "code",
   "execution_count": 11,
   "metadata": {
    "collapsed": true
   },
   "outputs": [],
   "source": [
    "collection = nltk.text.TextCollection(token_dict.values())"
   ]
  },
  {
   "cell_type": "code",
   "execution_count": 12,
   "metadata": {
    "collapsed": false
   },
   "outputs": [
    {
     "name": "stdout",
     "output_type": "stream",
     "text": [
      "Unique terms found:  101633\n"
     ]
    }
   ],
   "source": [
    "#get a list of unique terms\n",
    "unique_terms = list(set(collection))\n",
    "print \"Unique terms found: \", len(unique_terms)"
   ]
  },
  {
   "cell_type": "code",
   "execution_count": 72,
   "metadata": {
    "collapsed": true
   },
   "outputs": [],
   "source": [
    "# Function to create a TF*IDF vector for one document.  For each of\n",
    "# our unique words, we have a feature which is the td*idf for that word\n",
    "# in the current document\n",
    "def TFIDF(document):\n",
    "    global collection\n",
    "    word_tfidf = defaultdict(lambda: 0)\n",
    "    for word in unique_terms:\n",
    "        ifidf = collection.tf_idf(word,document)\n",
    "        if ifidf > 0.01:\n",
    "            word_tfidf[word] = ifidf\n",
    "    return word_tfidf"
   ]
  },
  {
   "cell_type": "code",
   "execution_count": 35,
   "metadata": {
    "collapsed": false
   },
   "outputs": [
    {
     "name": "stdout",
     "output_type": "stream",
     "text": [
      "CPU times: user 49min 37s, sys: 1.17 s, total: 49min 38s\n",
      "Wall time: 49min 35s\n"
     ]
    }
   ],
   "source": [
    "%time terms = [(t, collection.idf(t)) for t in unique_terms]"
   ]
  },
  {
   "cell_type": "code",
   "execution_count": 77,
   "metadata": {
    "collapsed": false
   },
   "outputs": [
    {
     "data": {
      "text/plain": [
       "[('fawn', 12.339562787303892),\n",
       " ('tsukino', 12.339562787303892),\n",
       " ('5quot', 12.339562787303892),\n",
       " ('400410', 12.339562787303892),\n",
       " ('daiich', 12.339562787303892),\n",
       " ('asustrixgtx750tioc2gd5', 12.339562787303892),\n",
       " ('lodyne', 12.339562787303892),\n",
       " ('inlite', 12.339562787303892),\n",
       " ('n7100note', 12.339562787303892),\n",
       " ('ds1015', 12.339562787303892),\n",
       " ('avanzaxeniakonfim', 12.339562787303892),\n",
       " ('br226', 12.339562787303892),\n",
       " ('xonmedaxon', 12.339562787303892),\n",
       " ('40z125ml', 12.339562787303892),\n",
       " ('spdquick', 12.339562787303892),\n",
       " ('ehnd11a', 12.339562787303892),\n",
       " ('replacer', 12.339562787303892),\n",
       " ('eos450d', 12.339562787303892),\n",
       " ('xp748fe', 12.339562787303892),\n",
       " ('bb402apinktua', 12.339562787303892),\n",
       " ('cp145335', 12.339562787303892),\n",
       " ('ks11', 12.339562787303892),\n",
       " ('wednesday', 12.339562787303892),\n",
       " ('330ma', 12.339562787303892),\n",
       " ('chameleons', 12.339562787303892),\n",
       " ('x0821656565s7x', 12.339562787303892),\n",
       " ('elgar', 12.339562787303892),\n",
       " ('adssuara', 12.339562787303892),\n",
       " ('330ml', 12.339562787303892),\n",
       " ('330mm', 12.339562787303892),\n",
       " '...',\n",
       " ('sepatu', 3.674984608974596),\n",
       " ('usb', 3.6517832953121205),\n",
       " ('samsung', 3.642551169311818),\n",
       " ('black', 3.6282841721734576),\n",
       " ('1', 3.6197553358259373),\n",
       " ('case', 3.552342458674594),\n",
       " ('jam', 3.5344875434332073),\n",
       " ('for', 3.494073550550618),\n",
       " ('tas', 3.3190520876119853),\n",
       " ('original', 3.1732788015246287)]"
      ]
     },
     "execution_count": 77,
     "metadata": {},
     "output_type": "execute_result"
    }
   ],
   "source": [
    "# Inverted Document Frequencies (of the unique terms):\n",
    "sorted(terms, key=lambda t: -t[1])[:30] + [\"...\"] + sorted(terms, key=lambda t: -t[1])[-10:]"
   ]
  },
  {
   "cell_type": "code",
   "execution_count": null,
   "metadata": {
    "collapsed": true
   },
   "outputs": [],
   "source": [
    "collection."
   ]
  },
  {
   "cell_type": "code",
   "execution_count": 73,
   "metadata": {
    "collapsed": false
   },
   "outputs": [
    {
     "name": "stdout",
     "output_type": "stream",
     "text": [
      "CPU times: user 2min 9s, sys: 844 ms, total: 2min 10s\n",
      "Wall time: 2min 9s\n"
     ]
    },
    {
     "data": {
      "text/plain": [
       "1000"
      ]
     },
     "execution_count": 73,
     "metadata": {},
     "output_type": "execute_result"
    }
   ],
   "source": [
    "%time len([TFIDF(token_dict[k]) for k in token_dict.keys()[1000:2000]])"
   ]
  },
  {
   "cell_type": "code",
   "execution_count": null,
   "metadata": {
    "collapsed": false
   },
   "outputs": [],
   "source": [
    "# Vectorize products:\n",
    "vectors = [(prod_id,TFIDF(token_dict[k])) for prod_id in token_dict.keys()]"
   ]
  },
  {
   "cell_type": "code",
   "execution_count": 60,
   "metadata": {
    "collapsed": false
   },
   "outputs": [
    {
     "data": {
      "text/plain": [
       "[0.08125752443140973,\n",
       " 0.08418035664711482,\n",
       " 0.08471049230957717,\n",
       " 0.08572306924639782,\n",
       " 0.09490421607068966,\n",
       " 0.09610310742401315,\n",
       " 0.09888906653094279,\n",
       " 0.10309338499850827,\n",
       " 0.11219112130519665,\n",
       " 0.11575702874521299,\n",
       " 0.11606919200875113,\n",
       " 0.11961919908903075,\n",
       " 0.12047141587224015,\n",
       " 0.12249164852945398,\n",
       " 0.1252307888935559,\n",
       " 0.1273432417639753,\n",
       " 0.12874552394640823,\n",
       " 0.13010061483301233,\n",
       " 0.13415534476661178,\n",
       " 0.13481606573946714,\n",
       " 0.1350518254670126,\n",
       " 0.14870098089993758,\n",
       " 0.15073557285628914,\n",
       " 0.15355791836801627,\n",
       " 0.15486953902992615,\n",
       " 0.15990072051809956,\n",
       " 0.1616393269183114,\n",
       " 0.16506548307544766,\n",
       " 0.1704401742606427,\n",
       " 0.17254841538315738,\n",
       " 0.17449490419424216,\n",
       " 0.17940906916324698,\n",
       " 0.18033942578217022,\n",
       " 0.18783448628517618,\n",
       " 0.20636806708149222,\n",
       " 0.21031920747208285,\n",
       " 0.21210899912641143,\n",
       " 0.22731659139168264,\n",
       " 0.22917804970967187,\n",
       " 0.25458938197304437,\n",
       " 0.2869665764489277,\n",
       " 0.2869665764489277]"
      ]
     },
     "execution_count": 60,
     "metadata": {},
     "output_type": "execute_result"
    }
   ],
   "source": [
    "sorted (_.values())"
   ]
  },
  {
   "cell_type": "code",
   "execution_count": null,
   "metadata": {
    "collapsed": true
   },
   "outputs": [],
   "source": [
    "prod_ids = sorted(token_dict.keys())\n",
    "for i in range(5):\n",
    "    for j in range(i,7):\n",
    "        nltk_repr.similar()"
   ]
  },
  {
   "cell_type": "code",
   "execution_count": null,
   "metadata": {
    "collapsed": true
   },
   "outputs": [],
   "source": [
    "#this can take some time\n",
    "tfidf = TfidfVectorizer(tokenizer=tokenize, stop_words='indonesian')\n",
    "tfs = tfidf.fit_transform(token_dict.values())"
   ]
  }
 ],
 "metadata": {
  "kernelspec": {
   "display_name": "Python 2",
   "language": "python",
   "name": "python2"
  },
  "language_info": {
   "codemirror_mode": {
    "name": "ipython",
    "version": 2
   },
   "file_extension": ".py",
   "mimetype": "text/x-python",
   "name": "python",
   "nbconvert_exporter": "python",
   "pygments_lexer": "ipython2",
   "version": "2.7.6"
  }
 },
 "nbformat": 4,
 "nbformat_minor": 0
}
