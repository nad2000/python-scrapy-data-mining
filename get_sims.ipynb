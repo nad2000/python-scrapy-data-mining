{
 "cells": [
  {
   "cell_type": "code",
   "execution_count": 1,
   "metadata": {
    "collapsed": true
   },
   "outputs": [],
   "source": [
    "import dill\n",
    "import math\n",
    "from collections import defaultdict\n",
    "import csv\n",
    "import itertools\n",
    "import random\n",
    "import multiprocessing\n",
    "import csv\n",
    "import utils"
   ]
  },
  {
   "cell_type": "code",
   "execution_count": 2,
   "metadata": {
    "collapsed": false
   },
   "outputs": [
    {
     "name": "stdout",
     "output_type": "stream",
     "text": [
      "CPU times: user 868 ms, sys: 12 ms, total: 880 ms\n",
      "Wall time: 1.28 s\n"
     ]
    }
   ],
   "source": [
    "%%time\n",
    "\n",
    "category_products = defaultdict(lambda: [])\n",
    "with open('/data/python-scrapy-data-mining/corpus.csv') as raw_file:\n",
    "    for (prod_id, _, url) in csv.reader(raw_file):\n",
    "        url = url.split('/')\n",
    "        if url[3] != 'p':\n",
    "            continue\n",
    "        category_products['/'.join(url[4:-1])].append(int(prod_id))\n",
    "        #product_category[int(prod_id)] = '/'.join(url[4:-1])"
   ]
  },
  {
   "cell_type": "code",
   "execution_count": 3,
   "metadata": {
    "collapsed": false
   },
   "outputs": [
    {
     "name": "stdout",
     "output_type": "stream",
     "text": [
      "Total products: 228562\n",
      "Total categories: 656\n"
     ]
    }
   ],
   "source": [
    "print \"Total products:\", sum( (len(prods) for cat, prods in category_products.iteritems()) )\n",
    "print \"Total categories:\", len(category_products)"
   ]
  },
  {
   "cell_type": "code",
   "execution_count": null,
   "metadata": {
    "collapsed": false
   },
   "outputs": [],
   "source": [
    "#category_products = sorted(((c, p) for (p, c) in product_category.items()), key=lambda e: e[0])\n",
    "#category_products = [(c, [p for (_, p) in pi]) for c, pi in itertools.groupby(category_product, key=lambda p: p[0])]"
   ]
  },
  {
   "cell_type": "code",
   "execution_count": 4,
   "metadata": {
    "collapsed": false
   },
   "outputs": [],
   "source": [
    "cat_counts = ((c, len(prods)) for (c, prods) in sorted(category_products.items(), key=lambda e: -len(e[1])))\n",
    "cat_counts = sorted(cat_counts, key=lambda e: e[1])"
   ]
  },
  {
   "cell_type": "code",
   "execution_count": 5,
   "metadata": {
    "collapsed": false
   },
   "outputs": [
    {
     "data": {
      "text/plain": [
       "[('sepeda/wheel-hub-rims-dll/bearing', 1),\n",
       " ('perlengkapan-bayi/makanan-711/jus', 1),\n",
       " ('onderdil-motor/sparepart-motor/dinamo', 1),\n",
       " ('onderdil-mobil', 1),\n",
       " ('hobi/olahraga', 1),\n",
       " ('sepeda/steering/handlepost', 1),\n",
       " ('sepeda/outwear', 1),\n",
       " ('onderdil-mobil/interior-mobil', 1),\n",
       " ('sepeda/brake/cantilever', 1),\n",
       " ('onderdil-mobil/produk-perawatan-mobil', 1),\n",
       " ('hobi/mainan/diecast', 3395),\n",
       " ('fashion/pria/sepatu-169', 3494),\n",
       " ('rumah-tangga/home-stuff', 3976),\n",
       " ('fashion/wanita/tas-wanita', 4211),\n",
       " ('personal-care/produk-kesehatan', 4672),\n",
       " ('rumah-tangga/dapur', 4803),\n",
       " ('elektronik/lain-lain-208', 5011),\n",
       " ('fashion/pria/jam-tangan-171', 6208),\n",
       " ('handphone/aksesoris-handphone', 6827),\n",
       " ('handphone/case-cover', 9072)]"
      ]
     },
     "execution_count": 5,
     "metadata": {},
     "output_type": "execute_result"
    }
   ],
   "source": [
    "cat_counts[:10] + cat_counts[-10:]"
   ]
  },
  {
   "cell_type": "code",
   "execution_count": 6,
   "metadata": {
    "collapsed": false
   },
   "outputs": [
    {
     "name": "stdout",
     "output_type": "stream",
     "text": [
      "CPU times: user 7.09 s, sys: 224 ms, total: 7.32 s\n",
      "Wall time: 7.34 s\n"
     ]
    }
   ],
   "source": [
    "%%time\n",
    "products = utils.restore_object(\"products.pkl\")"
   ]
  },
  {
   "cell_type": "code",
   "execution_count": 7,
   "metadata": {
    "collapsed": true
   },
   "outputs": [],
   "source": [
    "# category list with at least 2 products:\n",
    "categories = utils.get_categories()"
   ]
  },
  {
   "cell_type": "code",
   "execution_count": 8,
   "metadata": {
    "collapsed": false,
    "scrolled": true
   },
   "outputs": [],
   "source": [
    "def save_sims(category, sims):\n",
    "    with open(\"/data/python-scrapy-data-mining/sims_{0}.csv\".format(category.replace('/','_')), \"w\") as f:\n",
    "        csv_writer = csv.writer(f)\n",
    "        csv_writer.writerows(sims)\n",
    "\n",
    "def get_sim(categories):\n",
    "    global category_products, products\n",
    "    for cat in categories:\n",
    "        sim = []\n",
    "        prod_ids = sorted(category_products[cat])\n",
    "        # ignore categories with a single product:\n",
    "        if len(prod_ids) < 2:\n",
    "            continue\n",
    "        for i in prod_ids[:-1]:\n",
    "            for j in (p for p in prod_ids if p > i):\n",
    "                try: \n",
    "                    dist = utils.distance(products[i], products[j])\n",
    "                    if dist > 0.3:\n",
    "                        sim.append((i, j, round(dist, 7)))\n",
    "                except Exception as e:\n",
    "                    print e\n",
    "                    print \"***\", i, j\n",
    "        # Store in a CSV file and free the memory:\n",
    "        if sim:\n",
    "            save_sims(cat, sim)\n",
    "        #print \"*** Category:\", cat, \"of\", len(prod_ids), \"products with \", len(sim), \"similarities\"\n",
    "        del(sim)"
   ]
  },
  {
   "cell_type": "code",
   "execution_count": 10,
   "metadata": {
    "collapsed": false
   },
   "outputs": [
    {
     "name": "stdout",
     "output_type": "stream",
     "text": [
      "CPU times: user 2.36 s, sys: 8 ms, total: 2.37 s\n",
      "Wall time: 2.38 s\n"
     ]
    }
   ],
   "source": [
    "%%time\n",
    "get_sim(categories[:10])"
   ]
  },
  {
   "cell_type": "code",
   "execution_count": null,
   "metadata": {
    "collapsed": false
   },
   "outputs": [],
   "source": [
    "#Test get_sim:\n",
    "#get_sim([cat for cat, count in cat_counts if count > 10][:5])"
   ]
  },
  {
   "cell_type": "code",
   "execution_count": 11,
   "metadata": {
    "collapsed": false
   },
   "outputs": [
    {
     "name": "stdout",
     "output_type": "stream",
     "text": [
      "CPU times: user 328 ms, sys: 164 ms, total: 492 ms\n",
      "Wall time: 6min 29s\n"
     ]
    }
   ],
   "source": [
    "%%time\n",
    "\n",
    "random.shuffle(categories)\n",
    "pool = multiprocessing.Pool(processes=4)\n",
    "pool.map(get_sim, utils.chunks(categories, 4))"
   ]
  },
  {
   "cell_type": "code",
   "execution_count": null,
   "metadata": {
    "collapsed": true
   },
   "outputs": [],
   "source": []
  }
 ],
 "metadata": {
  "kernelspec": {
   "display_name": "Python 2",
   "language": "python",
   "name": "python2"
  },
  "language_info": {
   "codemirror_mode": {
    "name": "ipython",
    "version": 2
   },
   "file_extension": ".py",
   "mimetype": "text/x-python",
   "name": "python",
   "nbconvert_exporter": "python",
   "pygments_lexer": "ipython2",
   "version": "2.7.6"
  }
 },
 "nbformat": 4,
 "nbformat_minor": 0
}
